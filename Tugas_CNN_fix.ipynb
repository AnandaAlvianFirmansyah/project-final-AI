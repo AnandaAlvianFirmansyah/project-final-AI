{
  "nbformat": 4,
  "nbformat_minor": 0,
  "metadata": {
    "colab": {
      "name": "Tugas CNN fix.ipynb",
      "provenance": [],
      "collapsed_sections": []
    },
    "kernelspec": {
      "name": "python3",
      "display_name": "Python 3"
    },
    "language_info": {
      "name": "python"
    }
  },
  "cells": [
    {
      "cell_type": "code",
      "source": [
        "from sklearn.model_selection import train_test_split\n",
        "from sklearn.preprocessing import LabelEncoder\n",
        "from sklearn.metrics import classification_report\n",
        "from tensorflow.keras.models import Sequential\n",
        "from tensorflow.keras.layers import InputLayer, Flatten, Dense, Conv2D, MaxPool2D, Dropout\n",
        "from tensorflow.keras.optimizers import Adam\n",
        "import numpy as np\n",
        "import cv2\n",
        "import glob\n",
        "import matplotlib.pyplot as plt"
      ],
      "metadata": {
        "id": "VTW3igbDZrl3"
      },
      "execution_count": null,
      "outputs": []
    },
    {
      "cell_type": "code",
      "execution_count": null,
      "metadata": {
        "colab": {
          "base_uri": "https://localhost:8080/"
        },
        "id": "Ei8SyKLEZjIs",
        "outputId": "76a86b1b-d0a9-4f95-eb55-9f37cd2b6234"
      },
      "outputs": [
        {
          "output_type": "stream",
          "name": "stdout",
          "text": [
            "Drive already mounted at /content/drive; to attempt to forcibly remount, call drive.mount(\"/content/drive\", force_remount=True).\n"
          ]
        }
      ],
      "source": [
        "from google.colab import drive\n",
        "drive.mount('/content/drive')"
      ]
    },
    {
      "cell_type": "code",
      "source": [
        "%cd /content/drive/MyDrive/Tugas CNN\n",
        "!ls -a"
      ],
      "metadata": {
        "colab": {
          "base_uri": "https://localhost:8080/"
        },
        "id": "qNwyMUNdZpOi",
        "outputId": "bf931ef0-bc4a-49ef-b152-7090d701d7e1"
      },
      "execution_count": null,
      "outputs": [
        {
          "output_type": "stream",
          "name": "stdout",
          "text": [
            "/content/drive/MyDrive/Tugas CNN\n",
            "daun  daun.zip\tsaved_model_cnn  split_folder_daun\n"
          ]
        }
      ]
    },
    {
      "cell_type": "code",
      "source": [
        "data_dir = \"/content/drive/MyDrive/Tugas CNN/daun.zip\""
      ],
      "metadata": {
        "id": "37asE3csZyUU"
      },
      "execution_count": null,
      "outputs": []
    },
    {
      "cell_type": "code",
      "source": [
        "import os\n",
        "base_dataset = \"daun\"\n",
        "class_dir = ['Jeruk', 'Pandan']\n",
        "for class_item in class_dir:\n",
        "  cur_dir = base_dataset+\"/\"+class_item\n",
        "  dataset = os.listdir(cur_dir)\n",
        "  for item in dataset:\n",
        "    if not item.endswith(\".jpg\"):\n",
        "        os.remove(os.path.join(cur_dir, item))"
      ],
      "metadata": {
        "id": "iB3k1MvGZ4m2"
      },
      "execution_count": null,
      "outputs": []
    },
    {
      "cell_type": "code",
      "source": [
        "imagePaths = '/content/drive/MyDrive/Tugas CNN/daun/'\n",
        "label_list = ['Jeruk', 'Pandan']\n",
        "data = []\n",
        "labels = []"
      ],
      "metadata": {
        "id": "IqyFfAPraBat"
      },
      "execution_count": null,
      "outputs": []
    },
    {
      "cell_type": "code",
      "source": [
        "for label in label_list:\n",
        "    for imagePath in glob.glob(imagePaths+label+'//*.jpg'):\n",
        "        #print(imagePath)\n",
        "        image = cv2.imread(imagePath)\n",
        "        image = cv2.resize(image, (32, 32))\n",
        "        data.append(image)\n",
        "        labels.append(label)"
      ],
      "metadata": {
        "id": "TCwM7A_aaBdP"
      },
      "execution_count": null,
      "outputs": []
    },
    {
      "cell_type": "code",
      "source": [
        "np.array(data).shape"
      ],
      "metadata": {
        "colab": {
          "base_uri": "https://localhost:8080/"
        },
        "id": "PggQKeOpaBgf",
        "outputId": "1d779816-d0f2-4a7d-86c4-967505426260"
      },
      "execution_count": null,
      "outputs": [
        {
          "output_type": "execute_result",
          "data": {
            "text/plain": [
              "(100, 32, 32, 3)"
            ]
          },
          "metadata": {},
          "execution_count": 8
        }
      ]
    },
    {
      "cell_type": "code",
      "source": [
        "# ubah type data dari list menjadi array\n",
        "# ubah nilai dari tiap pixel menjadi range [0..1]\n",
        "data = np.array(data, dtype='float') / 255.0\n",
        "labels = np.array(labels)"
      ],
      "metadata": {
        "id": "qq7YhQ1saNvi"
      },
      "execution_count": null,
      "outputs": []
    },
    {
      "cell_type": "code",
      "source": [
        "print(labels)"
      ],
      "metadata": {
        "colab": {
          "base_uri": "https://localhost:8080/"
        },
        "id": "k04U2spMf4EW",
        "outputId": "3238e279-cdb1-4551-bb45-4bad19b52e69"
      },
      "execution_count": null,
      "outputs": [
        {
          "output_type": "stream",
          "name": "stdout",
          "text": [
            "['Jeruk', 'Pandan']\n"
          ]
        }
      ]
    },
    {
      "cell_type": "code",
      "source": [
        "# ubah nilai dari labels menjadi binary\n",
        "lb = LabelEncoder()\n",
        "labels = lb.fit_transform(labels)\n",
        "print(labels)"
      ],
      "metadata": {
        "colab": {
          "base_uri": "https://localhost:8080/"
        },
        "id": "GKLTYuk2bgoR",
        "outputId": "523ca518-164c-48e1-c798-b502a5330b6b"
      },
      "execution_count": null,
      "outputs": [
        {
          "output_type": "stream",
          "name": "stdout",
          "text": [
            "[0 0 0 0 0 0 0 0 0 0 0 0 0 0 0 0 0 0 0 0 0 0 0 0 0 0 0 0 0 0 0 0 0 0 0 0 0\n",
            " 0 0 0 0 0 0 0 0 0 0 0 0 0 1 1 1 1 1 1 1 1 1 1 1 1 1 1 1 1 1 1 1 1 1 1 1 1\n",
            " 1 1 1 1 1 1 1 1 1 1 1 1 1 1 1 1 1 1 1 1 1 1 1 1 1 1]\n"
          ]
        }
      ]
    },
    {
      "cell_type": "code",
      "source": [
        "x_train, x_test, y_train, y_test = train_test_split(data, labels, test_size=0.2, random_state=42)"
      ],
      "metadata": {
        "id": "ncbXsBuBbq-9"
      },
      "execution_count": null,
      "outputs": []
    },
    {
      "cell_type": "code",
      "source": [
        "print('Ukuran data train =', x_train.shape)\n",
        "print('Ukuran data test =', x_test.shape)"
      ],
      "metadata": {
        "colab": {
          "base_uri": "https://localhost:8080/"
        },
        "id": "d3PMDA-AbtTB",
        "outputId": "071cf832-e46a-4f90-d650-3cc522dff1da"
      },
      "execution_count": null,
      "outputs": [
        {
          "output_type": "stream",
          "name": "stdout",
          "text": [
            "Ukuran data train = (80, 32, 32, 3)\n",
            "Ukuran data test = (20, 32, 32, 3)\n"
          ]
        }
      ]
    },
    {
      "cell_type": "code",
      "source": [
        "model = Sequential()\n",
        "# Extracted Feature Layer\n",
        "model.add(InputLayer(input_shape=[32,32,3]))\n",
        "model.add(Conv2D(filters=32, kernel_size=2, strides=1, padding='same', activation='relu'))\n",
        "model.add(MaxPool2D(pool_size=2, padding='same'))\n",
        "model.add(Conv2D(filters=50, kernel_size=2, strides=1, padding='same', activation='relu'))\n",
        "model.add(MaxPool2D(pool_size=2, padding='same'))\n",
        "model.add(Dropout(0.25))\n",
        "model.add(Flatten())\n",
        "# Fully Connected Layer\n",
        "model.add(Dense(512, activation='relu'))\n",
        "model.add(Dropout(0.5))\n",
        "model.add(Dense(1, activation='sigmoid'))"
      ],
      "metadata": {
        "id": "PtcErJ5pburS"
      },
      "execution_count": null,
      "outputs": []
    },
    {
      "cell_type": "code",
      "source": [
        "model.summary()"
      ],
      "metadata": {
        "colab": {
          "base_uri": "https://localhost:8080/"
        },
        "id": "hqRVo6wEbwTy",
        "outputId": "8afedb97-2c7e-4d85-9966-dc0f09faff47"
      },
      "execution_count": null,
      "outputs": [
        {
          "output_type": "stream",
          "name": "stdout",
          "text": [
            "Model: \"sequential\"\n",
            "_________________________________________________________________\n",
            " Layer (type)                Output Shape              Param #   \n",
            "=================================================================\n",
            " conv2d (Conv2D)             (None, 32, 32, 32)        416       \n",
            "                                                                 \n",
            " max_pooling2d (MaxPooling2D  (None, 16, 16, 32)       0         \n",
            " )                                                               \n",
            "                                                                 \n",
            " conv2d_1 (Conv2D)           (None, 16, 16, 50)        6450      \n",
            "                                                                 \n",
            " max_pooling2d_1 (MaxPooling  (None, 8, 8, 50)         0         \n",
            " 2D)                                                             \n",
            "                                                                 \n",
            " dropout (Dropout)           (None, 8, 8, 50)          0         \n",
            "                                                                 \n",
            " flatten (Flatten)           (None, 3200)              0         \n",
            "                                                                 \n",
            " dense (Dense)               (None, 512)               1638912   \n",
            "                                                                 \n",
            " dropout_1 (Dropout)         (None, 512)               0         \n",
            "                                                                 \n",
            " dense_1 (Dense)             (None, 1)                 513       \n",
            "                                                                 \n",
            "=================================================================\n",
            "Total params: 1,646,291\n",
            "Trainable params: 1,646,291\n",
            "Non-trainable params: 0\n",
            "_________________________________________________________________\n"
          ]
        }
      ]
    },
    {
      "cell_type": "code",
      "source": [
        "# tentukan hyperparameter\n",
        "lr = 0.001\n",
        "max_epochs = 100\n",
        "opt_funct = Adam(learning_rate=lr)"
      ],
      "metadata": {
        "id": "GwscwK68bx0x"
      },
      "execution_count": 53,
      "outputs": []
    },
    {
      "cell_type": "code",
      "source": [
        "# compile arsitektur yang telah dibuat\n",
        "model.compile(loss = 'binary_crossentropy', \n",
        "              optimizer = opt_funct, \n",
        "              metrics = ['accuracy'])"
      ],
      "metadata": {
        "id": "8Ku-XuEXb1TY"
      },
      "execution_count": 54,
      "outputs": []
    },
    {
      "cell_type": "code",
      "source": [
        "H = model.fit(x_train, y_train, validation_data=(x_test, y_test), \n",
        "          epochs=max_epochs, batch_size=32)"
      ],
      "metadata": {
        "colab": {
          "base_uri": "https://localhost:8080/"
        },
        "id": "Ko3tzVvgb1Vz",
        "outputId": "4c631bcb-1320-4f1b-85eb-672bff889d4f"
      },
      "execution_count": null,
      "outputs": [
        {
          "output_type": "stream",
          "name": "stdout",
          "text": [
            "Epoch 1/5\n",
            "3/3 [==============================] - 2s 357ms/step - loss: 0.7117 - accuracy: 0.5750 - val_loss: 0.5362 - val_accuracy: 0.6000\n",
            "Epoch 2/5\n",
            "3/3 [==============================] - 0s 119ms/step - loss: 0.6029 - accuracy: 0.6375 - val_loss: 0.3975 - val_accuracy: 1.0000\n",
            "Epoch 3/5\n",
            "3/3 [==============================] - 0s 126ms/step - loss: 0.3311 - accuracy: 0.9375 - val_loss: 0.2097 - val_accuracy: 1.0000\n",
            "Epoch 4/5\n",
            "3/3 [==============================] - 0s 112ms/step - loss: 0.2243 - accuracy: 0.9875 - val_loss: 0.1270 - val_accuracy: 1.0000\n",
            "Epoch 5/5\n",
            "3/3 [==============================] - 0s 122ms/step - loss: 0.1163 - accuracy: 1.0000 - val_loss: 0.0467 - val_accuracy: 1.0000\n"
          ]
        }
      ]
    },
    {
      "cell_type": "code",
      "source": [
        "H = model.fit(x_train, y_train, validation_data=(x_test, y_test), \n",
        "          epochs=max_epochs, batch_size=32)"
      ],
      "metadata": {
        "colab": {
          "base_uri": "https://localhost:8080/"
        },
        "id": "Ndf3-R87lxrY",
        "outputId": "9b6bf6b5-2d0d-4bfa-cfe3-d99423255dff"
      },
      "execution_count": 55,
      "outputs": [
        {
          "output_type": "stream",
          "name": "stdout",
          "text": [
            "Epoch 1/100\n",
            "3/3 [==============================] - 2s 371ms/step - loss: 0.0464 - accuracy: 0.9875 - val_loss: 0.0101 - val_accuracy: 1.0000\n",
            "Epoch 2/100\n",
            "3/3 [==============================] - 0s 144ms/step - loss: 0.0357 - accuracy: 1.0000 - val_loss: 0.0098 - val_accuracy: 1.0000\n",
            "Epoch 3/100\n",
            "3/3 [==============================] - 0s 155ms/step - loss: 0.0285 - accuracy: 1.0000 - val_loss: 0.0028 - val_accuracy: 1.0000\n",
            "Epoch 4/100\n",
            "3/3 [==============================] - 0s 71ms/step - loss: 0.0057 - accuracy: 1.0000 - val_loss: 0.0018 - val_accuracy: 1.0000\n",
            "Epoch 5/100\n",
            "3/3 [==============================] - 0s 58ms/step - loss: 0.0088 - accuracy: 1.0000 - val_loss: 8.5146e-04 - val_accuracy: 1.0000\n",
            "Epoch 6/100\n",
            "3/3 [==============================] - 0s 59ms/step - loss: 0.0018 - accuracy: 1.0000 - val_loss: 5.3506e-04 - val_accuracy: 1.0000\n",
            "Epoch 7/100\n",
            "3/3 [==============================] - 0s 58ms/step - loss: 0.0017 - accuracy: 1.0000 - val_loss: 7.4936e-04 - val_accuracy: 1.0000\n",
            "Epoch 8/100\n",
            "3/3 [==============================] - 0s 64ms/step - loss: 0.0014 - accuracy: 1.0000 - val_loss: 6.2375e-04 - val_accuracy: 1.0000\n",
            "Epoch 9/100\n",
            "3/3 [==============================] - 0s 69ms/step - loss: 0.0015 - accuracy: 1.0000 - val_loss: 3.3076e-04 - val_accuracy: 1.0000\n",
            "Epoch 10/100\n",
            "3/3 [==============================] - 0s 61ms/step - loss: 6.2286e-04 - accuracy: 1.0000 - val_loss: 1.5235e-04 - val_accuracy: 1.0000\n",
            "Epoch 11/100\n",
            "3/3 [==============================] - 0s 70ms/step - loss: 3.6105e-04 - accuracy: 1.0000 - val_loss: 7.3768e-05 - val_accuracy: 1.0000\n",
            "Epoch 12/100\n",
            "3/3 [==============================] - 0s 66ms/step - loss: 2.6462e-04 - accuracy: 1.0000 - val_loss: 4.5047e-05 - val_accuracy: 1.0000\n",
            "Epoch 13/100\n",
            "3/3 [==============================] - 0s 63ms/step - loss: 1.2479e-04 - accuracy: 1.0000 - val_loss: 3.3683e-05 - val_accuracy: 1.0000\n",
            "Epoch 14/100\n",
            "3/3 [==============================] - 0s 69ms/step - loss: 1.6384e-04 - accuracy: 1.0000 - val_loss: 2.6966e-05 - val_accuracy: 1.0000\n",
            "Epoch 15/100\n",
            "3/3 [==============================] - 0s 70ms/step - loss: 9.6565e-05 - accuracy: 1.0000 - val_loss: 2.2655e-05 - val_accuracy: 1.0000\n",
            "Epoch 16/100\n",
            "3/3 [==============================] - 0s 65ms/step - loss: 1.7362e-04 - accuracy: 1.0000 - val_loss: 1.9156e-05 - val_accuracy: 1.0000\n",
            "Epoch 17/100\n",
            "3/3 [==============================] - 0s 66ms/step - loss: 2.2199e-04 - accuracy: 1.0000 - val_loss: 1.6501e-05 - val_accuracy: 1.0000\n",
            "Epoch 18/100\n",
            "3/3 [==============================] - 0s 64ms/step - loss: 9.5751e-05 - accuracy: 1.0000 - val_loss: 1.4613e-05 - val_accuracy: 1.0000\n",
            "Epoch 19/100\n",
            "3/3 [==============================] - 0s 55ms/step - loss: 4.8592e-05 - accuracy: 1.0000 - val_loss: 1.3448e-05 - val_accuracy: 1.0000\n",
            "Epoch 20/100\n",
            "3/3 [==============================] - 0s 58ms/step - loss: 6.1483e-05 - accuracy: 1.0000 - val_loss: 1.2954e-05 - val_accuracy: 1.0000\n",
            "Epoch 21/100\n",
            "3/3 [==============================] - 0s 59ms/step - loss: 6.6291e-05 - accuracy: 1.0000 - val_loss: 1.1728e-05 - val_accuracy: 1.0000\n",
            "Epoch 22/100\n",
            "3/3 [==============================] - 0s 56ms/step - loss: 6.6054e-05 - accuracy: 1.0000 - val_loss: 1.0175e-05 - val_accuracy: 1.0000\n",
            "Epoch 23/100\n",
            "3/3 [==============================] - 0s 57ms/step - loss: 4.3807e-05 - accuracy: 1.0000 - val_loss: 9.0440e-06 - val_accuracy: 1.0000\n",
            "Epoch 24/100\n",
            "3/3 [==============================] - 0s 57ms/step - loss: 4.0781e-05 - accuracy: 1.0000 - val_loss: 8.1362e-06 - val_accuracy: 1.0000\n",
            "Epoch 25/100\n",
            "3/3 [==============================] - 0s 63ms/step - loss: 4.5219e-05 - accuracy: 1.0000 - val_loss: 7.3639e-06 - val_accuracy: 1.0000\n",
            "Epoch 26/100\n",
            "3/3 [==============================] - 0s 58ms/step - loss: 3.2958e-05 - accuracy: 1.0000 - val_loss: 6.7471e-06 - val_accuracy: 1.0000\n",
            "Epoch 27/100\n",
            "3/3 [==============================] - 0s 55ms/step - loss: 5.0480e-05 - accuracy: 1.0000 - val_loss: 6.2922e-06 - val_accuracy: 1.0000\n",
            "Epoch 28/100\n",
            "3/3 [==============================] - 0s 59ms/step - loss: 5.2876e-05 - accuracy: 1.0000 - val_loss: 6.0614e-06 - val_accuracy: 1.0000\n",
            "Epoch 29/100\n",
            "3/3 [==============================] - 0s 54ms/step - loss: 4.0025e-05 - accuracy: 1.0000 - val_loss: 5.8221e-06 - val_accuracy: 1.0000\n",
            "Epoch 30/100\n",
            "3/3 [==============================] - 0s 56ms/step - loss: 3.8801e-05 - accuracy: 1.0000 - val_loss: 5.6324e-06 - val_accuracy: 1.0000\n",
            "Epoch 31/100\n",
            "3/3 [==============================] - 0s 63ms/step - loss: 5.6707e-05 - accuracy: 1.0000 - val_loss: 5.3106e-06 - val_accuracy: 1.0000\n",
            "Epoch 32/100\n",
            "3/3 [==============================] - 0s 56ms/step - loss: 1.1500e-05 - accuracy: 1.0000 - val_loss: 4.9710e-06 - val_accuracy: 1.0000\n",
            "Epoch 33/100\n",
            "3/3 [==============================] - 0s 58ms/step - loss: 2.8479e-05 - accuracy: 1.0000 - val_loss: 4.5953e-06 - val_accuracy: 1.0000\n",
            "Epoch 34/100\n",
            "3/3 [==============================] - 0s 55ms/step - loss: 1.9928e-05 - accuracy: 1.0000 - val_loss: 4.2539e-06 - val_accuracy: 1.0000\n",
            "Epoch 35/100\n",
            "3/3 [==============================] - 0s 56ms/step - loss: 2.1014e-05 - accuracy: 1.0000 - val_loss: 3.9755e-06 - val_accuracy: 1.0000\n",
            "Epoch 36/100\n",
            "3/3 [==============================] - 0s 55ms/step - loss: 3.1086e-05 - accuracy: 1.0000 - val_loss: 3.6962e-06 - val_accuracy: 1.0000\n",
            "Epoch 37/100\n",
            "3/3 [==============================] - 0s 63ms/step - loss: 3.6951e-05 - accuracy: 1.0000 - val_loss: 3.4283e-06 - val_accuracy: 1.0000\n",
            "Epoch 38/100\n",
            "3/3 [==============================] - 0s 58ms/step - loss: 2.9629e-05 - accuracy: 1.0000 - val_loss: 3.2361e-06 - val_accuracy: 1.0000\n",
            "Epoch 39/100\n",
            "3/3 [==============================] - 0s 59ms/step - loss: 1.7827e-05 - accuracy: 1.0000 - val_loss: 3.1911e-06 - val_accuracy: 1.0000\n",
            "Epoch 40/100\n",
            "3/3 [==============================] - 0s 57ms/step - loss: 2.7280e-05 - accuracy: 1.0000 - val_loss: 3.0933e-06 - val_accuracy: 1.0000\n",
            "Epoch 41/100\n",
            "3/3 [==============================] - 0s 58ms/step - loss: 1.6419e-05 - accuracy: 1.0000 - val_loss: 2.9912e-06 - val_accuracy: 1.0000\n",
            "Epoch 42/100\n",
            "3/3 [==============================] - 0s 63ms/step - loss: 1.0378e-05 - accuracy: 1.0000 - val_loss: 2.8619e-06 - val_accuracy: 1.0000\n",
            "Epoch 43/100\n",
            "3/3 [==============================] - 0s 66ms/step - loss: 1.6836e-05 - accuracy: 1.0000 - val_loss: 2.6959e-06 - val_accuracy: 1.0000\n",
            "Epoch 44/100\n",
            "3/3 [==============================] - 0s 64ms/step - loss: 1.4215e-05 - accuracy: 1.0000 - val_loss: 2.5275e-06 - val_accuracy: 1.0000\n",
            "Epoch 45/100\n",
            "3/3 [==============================] - 0s 64ms/step - loss: 1.2300e-05 - accuracy: 1.0000 - val_loss: 2.3883e-06 - val_accuracy: 1.0000\n",
            "Epoch 46/100\n",
            "3/3 [==============================] - 0s 75ms/step - loss: 3.0131e-05 - accuracy: 1.0000 - val_loss: 2.2229e-06 - val_accuracy: 1.0000\n",
            "Epoch 47/100\n",
            "3/3 [==============================] - 0s 65ms/step - loss: 3.0305e-05 - accuracy: 1.0000 - val_loss: 2.0785e-06 - val_accuracy: 1.0000\n",
            "Epoch 48/100\n",
            "3/3 [==============================] - 0s 72ms/step - loss: 1.4386e-05 - accuracy: 1.0000 - val_loss: 1.9990e-06 - val_accuracy: 1.0000\n",
            "Epoch 49/100\n",
            "3/3 [==============================] - 0s 68ms/step - loss: 1.3795e-05 - accuracy: 1.0000 - val_loss: 1.9123e-06 - val_accuracy: 1.0000\n",
            "Epoch 50/100\n",
            "3/3 [==============================] - 0s 63ms/step - loss: 2.0051e-05 - accuracy: 1.0000 - val_loss: 1.8546e-06 - val_accuracy: 1.0000\n",
            "Epoch 51/100\n",
            "3/3 [==============================] - 0s 66ms/step - loss: 1.2013e-05 - accuracy: 1.0000 - val_loss: 1.8085e-06 - val_accuracy: 1.0000\n",
            "Epoch 52/100\n",
            "3/3 [==============================] - 0s 60ms/step - loss: 1.3794e-05 - accuracy: 1.0000 - val_loss: 1.7769e-06 - val_accuracy: 1.0000\n",
            "Epoch 53/100\n",
            "3/3 [==============================] - 0s 61ms/step - loss: 9.6474e-06 - accuracy: 1.0000 - val_loss: 1.7516e-06 - val_accuracy: 1.0000\n",
            "Epoch 54/100\n",
            "3/3 [==============================] - 0s 58ms/step - loss: 8.7887e-06 - accuracy: 1.0000 - val_loss: 1.7070e-06 - val_accuracy: 1.0000\n",
            "Epoch 55/100\n",
            "3/3 [==============================] - 0s 56ms/step - loss: 1.1622e-05 - accuracy: 1.0000 - val_loss: 1.6311e-06 - val_accuracy: 1.0000\n",
            "Epoch 56/100\n",
            "3/3 [==============================] - 0s 56ms/step - loss: 4.6610e-05 - accuracy: 1.0000 - val_loss: 1.4819e-06 - val_accuracy: 1.0000\n",
            "Epoch 57/100\n",
            "3/3 [==============================] - 0s 64ms/step - loss: 5.6913e-06 - accuracy: 1.0000 - val_loss: 1.4244e-06 - val_accuracy: 1.0000\n",
            "Epoch 58/100\n",
            "3/3 [==============================] - 0s 59ms/step - loss: 9.0431e-06 - accuracy: 1.0000 - val_loss: 1.3682e-06 - val_accuracy: 1.0000\n",
            "Epoch 59/100\n",
            "3/3 [==============================] - 0s 63ms/step - loss: 7.4149e-06 - accuracy: 1.0000 - val_loss: 1.3094e-06 - val_accuracy: 1.0000\n",
            "Epoch 60/100\n",
            "3/3 [==============================] - 0s 56ms/step - loss: 1.2340e-05 - accuracy: 1.0000 - val_loss: 1.2532e-06 - val_accuracy: 1.0000\n",
            "Epoch 61/100\n",
            "3/3 [==============================] - 0s 58ms/step - loss: 1.1847e-05 - accuracy: 1.0000 - val_loss: 1.1963e-06 - val_accuracy: 1.0000\n",
            "Epoch 62/100\n",
            "3/3 [==============================] - 0s 59ms/step - loss: 4.5582e-06 - accuracy: 1.0000 - val_loss: 1.1562e-06 - val_accuracy: 1.0000\n",
            "Epoch 63/100\n",
            "3/3 [==============================] - 0s 57ms/step - loss: 1.2236e-05 - accuracy: 1.0000 - val_loss: 1.1202e-06 - val_accuracy: 1.0000\n",
            "Epoch 64/100\n",
            "3/3 [==============================] - 0s 56ms/step - loss: 1.3066e-05 - accuracy: 1.0000 - val_loss: 1.0928e-06 - val_accuracy: 1.0000\n",
            "Epoch 65/100\n",
            "3/3 [==============================] - 0s 60ms/step - loss: 7.8042e-06 - accuracy: 1.0000 - val_loss: 1.0599e-06 - val_accuracy: 1.0000\n",
            "Epoch 66/100\n",
            "3/3 [==============================] - 0s 58ms/step - loss: 6.0986e-05 - accuracy: 1.0000 - val_loss: 1.0315e-06 - val_accuracy: 1.0000\n",
            "Epoch 67/100\n",
            "3/3 [==============================] - 0s 56ms/step - loss: 6.1353e-06 - accuracy: 1.0000 - val_loss: 1.0581e-06 - val_accuracy: 1.0000\n",
            "Epoch 68/100\n",
            "3/3 [==============================] - 0s 60ms/step - loss: 6.4423e-06 - accuracy: 1.0000 - val_loss: 1.0648e-06 - val_accuracy: 1.0000\n",
            "Epoch 69/100\n",
            "3/3 [==============================] - 0s 68ms/step - loss: 8.5149e-06 - accuracy: 1.0000 - val_loss: 1.0428e-06 - val_accuracy: 1.0000\n",
            "Epoch 70/100\n",
            "3/3 [==============================] - 0s 78ms/step - loss: 1.4164e-05 - accuracy: 1.0000 - val_loss: 9.6471e-07 - val_accuracy: 1.0000\n",
            "Epoch 71/100\n",
            "3/3 [==============================] - 0s 68ms/step - loss: 4.7056e-06 - accuracy: 1.0000 - val_loss: 8.9556e-07 - val_accuracy: 1.0000\n",
            "Epoch 72/100\n",
            "3/3 [==============================] - 0s 61ms/step - loss: 1.5146e-05 - accuracy: 1.0000 - val_loss: 8.7793e-07 - val_accuracy: 1.0000\n",
            "Epoch 73/100\n",
            "3/3 [==============================] - 0s 64ms/step - loss: 1.1794e-05 - accuracy: 1.0000 - val_loss: 8.6143e-07 - val_accuracy: 1.0000\n",
            "Epoch 74/100\n",
            "3/3 [==============================] - 0s 65ms/step - loss: 5.2027e-06 - accuracy: 1.0000 - val_loss: 8.3953e-07 - val_accuracy: 1.0000\n",
            "Epoch 75/100\n",
            "3/3 [==============================] - 0s 63ms/step - loss: 5.9086e-06 - accuracy: 1.0000 - val_loss: 8.0776e-07 - val_accuracy: 1.0000\n",
            "Epoch 76/100\n",
            "3/3 [==============================] - 0s 66ms/step - loss: 1.4446e-05 - accuracy: 1.0000 - val_loss: 7.6515e-07 - val_accuracy: 1.0000\n",
            "Epoch 77/100\n",
            "3/3 [==============================] - 0s 61ms/step - loss: 4.9529e-06 - accuracy: 1.0000 - val_loss: 7.2231e-07 - val_accuracy: 1.0000\n",
            "Epoch 78/100\n",
            "3/3 [==============================] - 0s 66ms/step - loss: 1.0283e-05 - accuracy: 1.0000 - val_loss: 6.7450e-07 - val_accuracy: 1.0000\n",
            "Epoch 79/100\n",
            "3/3 [==============================] - 0s 68ms/step - loss: 6.0379e-06 - accuracy: 1.0000 - val_loss: 6.3397e-07 - val_accuracy: 1.0000\n",
            "Epoch 80/100\n",
            "3/3 [==============================] - 0s 59ms/step - loss: 7.0198e-06 - accuracy: 1.0000 - val_loss: 5.9674e-07 - val_accuracy: 1.0000\n",
            "Epoch 81/100\n",
            "3/3 [==============================] - 0s 64ms/step - loss: 6.1261e-06 - accuracy: 1.0000 - val_loss: 5.6776e-07 - val_accuracy: 1.0000\n",
            "Epoch 82/100\n",
            "3/3 [==============================] - 0s 59ms/step - loss: 4.7642e-06 - accuracy: 1.0000 - val_loss: 5.4206e-07 - val_accuracy: 1.0000\n",
            "Epoch 83/100\n",
            "3/3 [==============================] - 0s 57ms/step - loss: 4.6112e-06 - accuracy: 1.0000 - val_loss: 5.1945e-07 - val_accuracy: 1.0000\n",
            "Epoch 84/100\n",
            "3/3 [==============================] - 0s 59ms/step - loss: 4.0027e-06 - accuracy: 1.0000 - val_loss: 4.9749e-07 - val_accuracy: 1.0000\n",
            "Epoch 85/100\n",
            "3/3 [==============================] - 0s 55ms/step - loss: 4.0333e-06 - accuracy: 1.0000 - val_loss: 4.7680e-07 - val_accuracy: 1.0000\n",
            "Epoch 86/100\n",
            "3/3 [==============================] - 0s 58ms/step - loss: 4.3267e-06 - accuracy: 1.0000 - val_loss: 4.6086e-07 - val_accuracy: 1.0000\n",
            "Epoch 87/100\n",
            "3/3 [==============================] - 0s 66ms/step - loss: 6.6725e-06 - accuracy: 1.0000 - val_loss: 4.4644e-07 - val_accuracy: 1.0000\n",
            "Epoch 88/100\n",
            "3/3 [==============================] - 0s 57ms/step - loss: 7.1254e-06 - accuracy: 1.0000 - val_loss: 4.3226e-07 - val_accuracy: 1.0000\n",
            "Epoch 89/100\n",
            "3/3 [==============================] - 0s 62ms/step - loss: 2.7421e-06 - accuracy: 1.0000 - val_loss: 4.2123e-07 - val_accuracy: 1.0000\n",
            "Epoch 90/100\n",
            "3/3 [==============================] - 0s 58ms/step - loss: 1.7188e-05 - accuracy: 1.0000 - val_loss: 4.3725e-07 - val_accuracy: 1.0000\n",
            "Epoch 91/100\n",
            "3/3 [==============================] - 0s 58ms/step - loss: 3.0410e-06 - accuracy: 1.0000 - val_loss: 4.4240e-07 - val_accuracy: 1.0000\n",
            "Epoch 92/100\n",
            "3/3 [==============================] - 0s 63ms/step - loss: 1.6657e-05 - accuracy: 1.0000 - val_loss: 4.1992e-07 - val_accuracy: 1.0000\n",
            "Epoch 93/100\n",
            "3/3 [==============================] - 0s 60ms/step - loss: 3.1810e-06 - accuracy: 1.0000 - val_loss: 4.0348e-07 - val_accuracy: 1.0000\n",
            "Epoch 94/100\n",
            "3/3 [==============================] - 0s 58ms/step - loss: 5.2357e-06 - accuracy: 1.0000 - val_loss: 3.9350e-07 - val_accuracy: 1.0000\n",
            "Epoch 95/100\n",
            "3/3 [==============================] - 0s 58ms/step - loss: 2.6632e-06 - accuracy: 1.0000 - val_loss: 3.8347e-07 - val_accuracy: 1.0000\n",
            "Epoch 96/100\n",
            "3/3 [==============================] - 0s 57ms/step - loss: 4.5370e-06 - accuracy: 1.0000 - val_loss: 3.7217e-07 - val_accuracy: 1.0000\n",
            "Epoch 97/100\n",
            "3/3 [==============================] - 0s 59ms/step - loss: 3.2522e-06 - accuracy: 1.0000 - val_loss: 3.6082e-07 - val_accuracy: 1.0000\n",
            "Epoch 98/100\n",
            "3/3 [==============================] - 0s 63ms/step - loss: 3.0753e-06 - accuracy: 1.0000 - val_loss: 3.4974e-07 - val_accuracy: 1.0000\n",
            "Epoch 99/100\n",
            "3/3 [==============================] - 0s 60ms/step - loss: 7.2265e-06 - accuracy: 1.0000 - val_loss: 3.3702e-07 - val_accuracy: 1.0000\n",
            "Epoch 100/100\n",
            "3/3 [==============================] - 0s 62ms/step - loss: 5.7903e-06 - accuracy: 1.0000 - val_loss: 3.2475e-07 - val_accuracy: 1.0000\n"
          ]
        }
      ]
    },
    {
      "cell_type": "code",
      "source": [
        "N = np.arange(0, max_epochs)\n",
        "plt.style.use(\"ggplot\")\n",
        "plt.figure()\n",
        "plt.plot(N, H.history[\"loss\"], label=\"train_loss\")\n",
        "plt.plot(N, H.history[\"val_loss\"], label=\"val_loss\")\n",
        "#plt.plot(N, H.history[\"accuracy\"], label=\"train_acc\")\n",
        "#plt.plot(N, H.history[\"val_accuracy\"], label=\"val_acc\")\n",
        "plt.xlabel(\"Epoch #\")\n",
        "plt.legend()\n",
        "plt.show()"
      ],
      "metadata": {
        "colab": {
          "base_uri": "https://localhost:8080/",
          "height": 282
        },
        "id": "soAiMbeFb1ZQ",
        "outputId": "79888508-fc5c-4873-f771-f5f2c410f5c5"
      },
      "execution_count": null,
      "outputs": [
        {
          "output_type": "display_data",
          "data": {
            "image/png": "[encoded data removed]",
            "text/plain": [
              "<Figure size 432x288 with 1 Axes>"
            ]
          },
          "metadata": {}
        }
      ]
    },
    {
      "cell_type": "code",
      "source": [
        "N = np.arange(0, max_epochs)\n",
        "plt.style.use(\"ggplot\")\n",
        "plt.figure()\n",
        "plt.plot(N, H.history[\"loss\"], label=\"train_loss\")\n",
        "plt.plot(N, H.history[\"val_loss\"], label=\"val_loss\")\n",
        "#plt.plot(N, H.history[\"accuracy\"], label=\"train_acc\")\n",
        "#plt.plot(N, H.history[\"val_accuracy\"], label=\"val_acc\")\n",
        "plt.xlabel(\"Epoch #\")\n",
        "plt.legend()\n",
        "plt.show()"
      ],
      "metadata": {
        "colab": {
          "base_uri": "https://localhost:8080/",
          "height": 282
        },
        "id": "FcvvNmGWmOug",
        "outputId": "f2541168-e8d5-42a7-bf29-ef6063ffe51b"
      },
      "execution_count": 56,
      "outputs": [
        {
          "output_type": "display_data",
          "data": {
            "image/png": "[encoded data removed]",
            "text/plain": [
              "<Figure size 432x288 with 1 Axes>"
            ]
          },
          "metadata": {}
        }
      ]
    },
    {
      "cell_type": "code",
      "source": [
        "# menghitung nilai akurasi model terhadap data test\n",
        "predictions = model.predict(x_test, batch_size=32)\n",
        "target = (predictions > 0.5).astype(np.int)\n",
        "print(classification_report(y_test, target, target_names=label_list))"
      ],
      "metadata": {
        "colab": {
          "base_uri": "https://localhost:8080/"
        },
        "id": "mQlPCx7jcAsF",
        "outputId": "254db2b9-987f-49fd-b22b-c4e4cbbb67b5"
      },
      "execution_count": null,
      "outputs": [
        {
          "output_type": "stream",
          "name": "stdout",
          "text": [
            "              precision    recall  f1-score   support\n",
            "\n",
            "       Jeruk       1.00      1.00      1.00        12\n",
            "      Pandan       1.00      1.00      1.00         8\n",
            "\n",
            "    accuracy                           1.00        20\n",
            "   macro avg       1.00      1.00      1.00        20\n",
            "weighted avg       1.00      1.00      1.00        20\n",
            "\n"
          ]
        }
      ]
    },
    {
      "cell_type": "code",
      "source": [
        "model.save('/content/drive/MyDrive/Tugas CNN/saved_model_cnn/ModelCNN.h5')\n",
        "model.save('/content/drive/MyDrive/Tugas CNN/saved_model_cnn/DropoutModel.h5')"
      ],
      "metadata": {
        "id": "kL1J6mwPcAub"
      },
      "execution_count": null,
      "outputs": []
    },
    {
      "cell_type": "code",
      "source": [
        "from PIL import Image\n",
        "import cv2\n",
        "from tensorflow.keras.models import  load_model\n",
        "\n",
        "img_upload = Image.open(\"/content/drive/MyDrive/Tugas CNN/daun/Pandan/001.jpg\")\n",
        "img_plt = plt.imshow(img_upload)\n",
        "img = np.array(img_upload)\n",
        "img = cv2.cvtColor(img, cv2.COLOR_BGR2RGB)\n",
        "\n",
        "model_list = ['/content/drive/MyDrive/Tugas CNN/saved_model_cnn/ModelCNN.h5',\n",
        "              '/content/drive/MyDrive/Tugas CNN/saved_model_cnn/DropoutModel.h5']\n",
        "labels = ['Jeruk', 'Pandan']\n",
        "\n",
        "for m in model_list:\n",
        "    model = load_model(m)\n",
        "    size_img = model.layers[0].output_shape[1:2]\n",
        "    imgs = cv2.resize(img,(2*16, 2*16), interpolation = cv2.INTER_CUBIC)\n",
        "    imgs = imgs.astype('float32') / 255\n",
        "    pred = model.predict(np.expand_dims(imgs, axis=0))[0]\n",
        "    print('Model :', m.split('/')[-1])\n",
        "    print('Predicted Label :',labels[((pred > 0.5)+0).ravel()[0]])\n",
        "    print('Probability :',[ round(elem, 2) for elem in pred ][0])\n",
        "    print('===============\\n')"
      ],
      "metadata": {
        "colab": {
          "base_uri": "https://localhost:8080/",
          "height": 443
        },
        "id": "z03STe-8cAx0",
        "outputId": "05ae6a2b-d2a3-4179-9063-d155a1ad6450"
      },
      "execution_count": null,
      "outputs": [
        {
          "output_type": "stream",
          "name": "stdout",
          "text": [
            "Model : ModelCNN.h5\n",
            "Predicted Label : Pandan\n",
            "Probability : 0.94\n",
            "===============\n",
            "\n",
            "Model : DropoutModel.h5\n",
            "Predicted Label : Pandan\n",
            "Probability : 0.94\n",
            "===============\n",
            "\n"
          ]
        },
        {
          "output_type": "display_data",
          "data": {
            "image/png": "[encoded data removed]",
            "text/plain": [
              "<Figure size 432x288 with 1 Axes>"
            ]
          },
          "metadata": {}
        }
      ]
    },
    {
      "cell_type": "code",
      "source": [
        "queryPath = \"/content/drive/MyDrive/Tugas CNN/daun/Pandan/001.jpg\"\n",
        "query = cv2.imread(queryPath)\n",
        "output = query.copy()\n",
        "query = cv2.resize(query, (32, 32))\n",
        "q = []\n",
        "q.append(query)\n",
        "q = np.array(q, dtype='float') / 255.0\n",
        "\n",
        "q_pred = model.predict(q)\n",
        "print(q_pred)"
      ],
      "metadata": {
        "colab": {
          "base_uri": "https://localhost:8080/"
        },
        "id": "8YCt4fpVgIV6",
        "outputId": "642f64f6-7e90-4601-ef2a-7567a279f55d"
      },
      "execution_count": null,
      "outputs": [
        {
          "output_type": "stream",
          "name": "stdout",
          "text": [
            "[[0.93883425]]\n"
          ]
        }
      ]
    },
    {
      "cell_type": "code",
      "source": [
        "model.save('/content/drive/MyDrive/Tugas CNN/saved_model_cnn/jeruk_pandan_class_model.h5')"
      ],
      "metadata": {
        "id": "SwcubYHPndDF"
      },
      "execution_count": 58,
      "outputs": []
    }
  ]
}